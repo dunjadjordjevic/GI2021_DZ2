{
 "cells": [
  {
   "cell_type": "markdown",
   "metadata": {},
   "source": [
    "# Drugi domaći zadatak iz predmeta Genomska Informatika\n",
    "#### Student: Dunja Đorđević 3346/20"
   ]
  },
  {
   "cell_type": "code",
   "execution_count": 1,
   "metadata": {},
   "outputs": [
    {
     "name": "stdout",
     "output_type": "stream",
     "text": [
      "Broj unmapped readova u BAM fajlu je: \n",
      "17765\n",
      "Broj read-ova u BAM fajlu je: \n",
      "2921629\n",
      "Broj readova sa kvalitetom mapiranja jednakim nuli u BAM fajlu je: \n",
      "126628\n",
      "Prosecni kvalitet mapiranja (za sve read-ove): \n",
      "55.91379158681681\n",
      "Prosecni kvalitet mapiranja (samo za read-ove koji imaju ne nula MAQ): \n",
      "58.446975510921106\n"
     ]
    }
   ],
   "source": [
    "import pysam\n",
    "\n",
    "samfile = pysam.AlignmentFile(\"merged-tumor.bam\", \"rb\")\n",
    "\n",
    "total_count = 0\n",
    "count_of_unmapped = 0\n",
    "count_of_maq_zero = 0\n",
    "sum_of_maqs = 0 \n",
    "\n",
    "iter = samfile.fetch(until_eof=True)\n",
    "\n",
    "for x in iter:\n",
    "    total_count +=1\n",
    "    sum_of_maqs += x.mapping_quality\n",
    "    if x.is_unmapped:\n",
    "        count_of_unmapped += 1\n",
    "    if (x.mapping_quality == 0):\n",
    "        count_of_maq_zero += 1\n",
    "    \n",
    "\n",
    "print(\"Broj unmapped readova u BAM fajlu je: \")\n",
    "print(count_of_unmapped)\n",
    "\n",
    "print(\"Broj read-ova u BAM fajlu je: \")\n",
    "print(total_count)\n",
    "\n",
    "print(\"Broj readova sa kvalitetom mapiranja jednakim nuli u BAM fajlu je: \")\n",
    "print(count_of_maq_zero)\n",
    "\n",
    "print(\"Prosecni kvalitet mapiranja (za sve read-ove): \")\n",
    "print(sum_of_maqs/total_count)\n",
    "\n",
    "print(\"Prosecni kvalitet mapiranja (samo za read-ove koji imaju ne nula MAQ): \")\n",
    "print(sum_of_maqs/(total_count - count_of_maq_zero))"
   ]
  },
  {
   "cell_type": "code",
   "execution_count": 2,
   "metadata": {},
   "outputs": [
    {
     "name": "stdout",
     "output_type": "stream",
     "text": [
      "C0HVYACXX120402:7:1207:5722:57044\t1187\t20\t9483248\t27\t76M\t20\t9483381\t76\tTTTTCAAACAGTATCTATGCCTGCCAAATGTGAACATATAAAAAAAAACCAGAATGTGCCATTCTGATTTAAACTG\tarray('B', [28, 28, 27, 29, 31, 30, 31, 31, 29, 31, 35, 30, 29, 31, 34, 30, 29, 23, 41, 32, 20, 30, 29, 34, 34, 29, 30, 31, 30, 30, 30, 33, 33, 26, 39, 12, 25, 19, 32, 30, 35, 28, 35, 33, 23, 33, 35, 36, 30, 38, 33, 41, 34, 35, 31, 33, 23, 30, 30, 36, 27, 32, 29, 34, 35, 41, 33, 31, 33, 29, 32, 32, 31, 31, 31, 34])\t[('XA', 'GL000217.1,-110754,76M,1;'), ('BD', 'NNNNNNNNNNNNNNNNNNNNNNNNNNNNNNNNNNNNNNNNNNNNNNNNNNNNNNNNNNNNNNNNNNNNNNNNNNNN'), ('MD', '76'), ('RG', '1'), ('BI', 'NNNNNNNNNNNNNNNNNNNNNNNNNNNNNNNNNNNNNNNNNNNNNNNNNNNNNNNNNNNNNNNNNNNNNNNNNNNN'), ('NM', 0), ('MQ', 27), ('AS', 76), ('XS', 71)]\n",
      "\n",
      "Flag polje za prvi read je: \n",
      "1187\n"
     ]
    }
   ],
   "source": [
    "samfile = pysam.AlignmentFile(\"merged-tumor.bam\", \"rb\")\n",
    "iter = samfile.fetch(until_eof=True)\n",
    "\n",
    "for x in iter:\n",
    "    print(x)\n",
    "    print(\"\\nFlag polje za prvi read je: \")\n",
    "    print (x.flag)\n",
    "    break"
   ]
  },
  {
   "cell_type": "markdown",
   "metadata": {},
   "source": [
    "##### Na osnovu dobijenog flag-a za prvi read u BAM fajlu može se zaključiti sledeće za posmatrani read: \n",
    "\n",
    "##### Summary:\n",
    "    read paired (0x1)\n",
    "    read mapped in proper pair (0x2)\n",
    "    mate reverse strand (0x20)\n",
    "    second in pair (0x80)\n",
    "    read is PCR or optical duplicate (0x400)"
   ]
  }
 ],
 "metadata": {
  "kernelspec": {
   "display_name": "Python 3",
   "language": "python",
   "name": "python3"
  },
  "language_info": {
   "codemirror_mode": {
    "name": "ipython",
    "version": 3
   },
   "file_extension": ".py",
   "mimetype": "text/x-python",
   "name": "python",
   "nbconvert_exporter": "python",
   "pygments_lexer": "ipython3",
   "version": "3.8.5"
  }
 },
 "nbformat": 4,
 "nbformat_minor": 4
}
